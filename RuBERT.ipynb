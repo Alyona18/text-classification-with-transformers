{
  "nbformat": 4,
  "nbformat_minor": 0,
  "metadata": {
    "accelerator": "GPU",
    "colab": {
      "name": "RuBERT.ipynb",
      "provenance": [],
      "collapsed_sections": [],
      "mount_file_id": "1IVFql7xEN9TNXeQlDZeAiiIImj20VipR",
      "authorship_tag": "ABX9TyMUoNyj+VcF7rwDDb1idlD+",
      "include_colab_link": true
    },
    "kernelspec": {
      "display_name": "Python 3",
      "name": "python3"
    },
    "language_info": {
      "name": "python"
    }
  },
  "cells": [
    {
      "cell_type": "markdown",
      "metadata": {
        "id": "view-in-github",
        "colab_type": "text"
      },
      "source": [
        "<a href=\"https://colab.research.google.com/github/Alyona18/text-classification-with-transformers/blob/main/RuBERT.ipynb\" target=\"_parent\"><img src=\"https://colab.research.google.com/assets/colab-badge.svg\" alt=\"Open In Colab\"/></a>"
      ]
    },
    {
      "cell_type": "code",
      "source": [
        "from google.colab import drive\n",
        "drive.mount('/content/drive')"
      ],
      "metadata": {
        "colab": {
          "base_uri": "https://localhost:8080/"
        },
        "id": "oCsw2OT3-zhL",
        "outputId": "94d9639f-7963-46c5-c57f-4d203dd0747c"
      },
      "execution_count": null,
      "outputs": [
        {
          "output_type": "stream",
          "name": "stdout",
          "text": [
            "Drive already mounted at /content/drive; to attempt to forcibly remount, call drive.mount(\"/content/drive\", force_remount=True).\n"
          ]
        }
      ]
    },
    {
      "cell_type": "code",
      "metadata": {
        "id": "cR8SzEn4rTqj"
      },
      "source": [
        "!cp  drive/MyDrive/НИР/dataset_bert.py .\n",
        "!cp  drive/MyDrive/НИР/functions_for_bert.py ."
      ],
      "execution_count": null,
      "outputs": []
    },
    {
      "cell_type": "code",
      "metadata": {
        "colab": {
          "base_uri": "https://localhost:8080/"
        },
        "id": "F7sstTUfVtuH",
        "outputId": "b5f10d0d-f0ba-43b0-fe9f-eb943723532d"
      },
      "source": [
        "!pip install transformers\n",
        "!pip install torch\n",
        "!pip3 install deeppavlov\n",
        "import torch\n",
        "import numpy as np\n",
        "from sklearn.metrics import precision_recall_fscore_support"
      ],
      "execution_count": null,
      "outputs": [
        {
          "output_type": "stream",
          "name": "stdout",
          "text": [
            "Requirement already satisfied: transformers in /usr/local/lib/python3.7/dist-packages (4.16.2)\n",
            "Requirement already satisfied: huggingface-hub<1.0,>=0.1.0 in /usr/local/lib/python3.7/dist-packages (from transformers) (0.4.0)\n",
            "Requirement already satisfied: filelock in /usr/local/lib/python3.7/dist-packages (from transformers) (3.0.12)\n",
            "Requirement already satisfied: packaging>=20.0 in /usr/local/lib/python3.7/dist-packages (from transformers) (21.3)\n",
            "Requirement already satisfied: tokenizers!=0.11.3,>=0.10.1 in /usr/local/lib/python3.7/dist-packages (from transformers) (0.11.4)\n",
            "Requirement already satisfied: regex!=2019.12.17 in /usr/local/lib/python3.7/dist-packages (from transformers) (2019.12.20)\n",
            "Requirement already satisfied: tqdm>=4.27 in /usr/local/lib/python3.7/dist-packages (from transformers) (4.62.0)\n",
            "Requirement already satisfied: sacremoses in /usr/local/lib/python3.7/dist-packages (from transformers) (0.0.35)\n",
            "Requirement already satisfied: requests in /usr/local/lib/python3.7/dist-packages (from transformers) (2.22.0)\n",
            "Requirement already satisfied: importlib-metadata in /usr/local/lib/python3.7/dist-packages (from transformers) (4.10.1)\n",
            "Requirement already satisfied: numpy>=1.17 in /usr/local/lib/python3.7/dist-packages (from transformers) (1.18.0)\n",
            "Requirement already satisfied: pyyaml>=5.1 in /usr/local/lib/python3.7/dist-packages (from transformers) (6.0)\n",
            "Requirement already satisfied: typing-extensions>=3.7.4.3 in /usr/local/lib/python3.7/dist-packages (from huggingface-hub<1.0,>=0.1.0->transformers) (3.10.0.2)\n",
            "Requirement already satisfied: pyparsing!=3.0.5,>=2.0.2 in /usr/local/lib/python3.7/dist-packages (from packaging>=20.0->transformers) (3.0.7)\n",
            "Requirement already satisfied: zipp>=0.5 in /usr/local/lib/python3.7/dist-packages (from importlib-metadata->transformers) (3.7.0)\n",
            "Requirement already satisfied: urllib3!=1.25.0,!=1.25.1,<1.26,>=1.21.1 in /usr/local/lib/python3.7/dist-packages (from requests->transformers) (1.24.3)\n",
            "Requirement already satisfied: idna<2.9,>=2.5 in /usr/local/lib/python3.7/dist-packages (from requests->transformers) (2.8)\n",
            "Requirement already satisfied: chardet<3.1.0,>=3.0.2 in /usr/local/lib/python3.7/dist-packages (from requests->transformers) (3.0.4)\n",
            "Requirement already satisfied: certifi>=2017.4.17 in /usr/local/lib/python3.7/dist-packages (from requests->transformers) (2021.10.8)\n",
            "Requirement already satisfied: six in /usr/local/lib/python3.7/dist-packages (from sacremoses->transformers) (1.15.0)\n",
            "Requirement already satisfied: joblib in /usr/local/lib/python3.7/dist-packages (from sacremoses->transformers) (1.1.0)\n",
            "Requirement already satisfied: click in /usr/local/lib/python3.7/dist-packages (from sacremoses->transformers) (7.1.2)\n",
            "Requirement already satisfied: torch in /usr/local/lib/python3.7/dist-packages (1.10.0+cu111)\n",
            "Requirement already satisfied: typing-extensions in /usr/local/lib/python3.7/dist-packages (from torch) (3.10.0.2)\n",
            "Requirement already satisfied: deeppavlov in /usr/local/lib/python3.7/dist-packages (0.17.2)\n",
            "Requirement already satisfied: ruamel.yaml==0.15.100 in /usr/local/lib/python3.7/dist-packages (from deeppavlov) (0.15.100)\n",
            "Requirement already satisfied: scikit-learn==0.21.2 in /usr/local/lib/python3.7/dist-packages (from deeppavlov) (0.21.2)\n",
            "Requirement already satisfied: h5py==2.10.0 in /usr/local/lib/python3.7/dist-packages (from deeppavlov) (2.10.0)\n",
            "Requirement already satisfied: uvloop==0.14.0 in /usr/local/lib/python3.7/dist-packages (from deeppavlov) (0.14.0)\n",
            "Requirement already satisfied: pytelegrambotapi==3.6.7 in /usr/local/lib/python3.7/dist-packages (from deeppavlov) (3.6.7)\n",
            "Requirement already satisfied: fastapi==0.47.1 in /usr/local/lib/python3.7/dist-packages (from deeppavlov) (0.47.1)\n",
            "Requirement already satisfied: numpy==1.18.0 in /usr/local/lib/python3.7/dist-packages (from deeppavlov) (1.18.0)\n",
            "Requirement already satisfied: uvicorn==0.11.7 in /usr/local/lib/python3.7/dist-packages (from deeppavlov) (0.11.7)\n",
            "Requirement already satisfied: pyopenssl==19.1.0 in /usr/local/lib/python3.7/dist-packages (from deeppavlov) (19.1.0)\n",
            "Requirement already satisfied: click==7.1.2 in /usr/local/lib/python3.7/dist-packages (from deeppavlov) (7.1.2)\n",
            "Requirement already satisfied: pandas==0.25.3 in /usr/local/lib/python3.7/dist-packages (from deeppavlov) (0.25.3)\n",
            "Requirement already satisfied: rusenttokenize==0.0.5 in /usr/local/lib/python3.7/dist-packages (from deeppavlov) (0.0.5)\n",
            "Requirement already satisfied: pytz==2019.1 in /usr/local/lib/python3.7/dist-packages (from deeppavlov) (2019.1)\n",
            "Requirement already satisfied: Cython==0.29.14 in /usr/local/lib/python3.7/dist-packages (from deeppavlov) (0.29.14)\n",
            "Requirement already satisfied: overrides==2.7.0 in /usr/local/lib/python3.7/dist-packages (from deeppavlov) (2.7.0)\n",
            "Requirement already satisfied: prometheus-client==0.7.1 in /usr/local/lib/python3.7/dist-packages (from deeppavlov) (0.7.1)\n",
            "Requirement already satisfied: requests==2.22.0 in /usr/local/lib/python3.7/dist-packages (from deeppavlov) (2.22.0)\n",
            "Requirement already satisfied: pydantic==1.3 in /usr/local/lib/python3.7/dist-packages (from deeppavlov) (1.3)\n",
            "Requirement already satisfied: pymorphy2==0.8 in /usr/local/lib/python3.7/dist-packages (from deeppavlov) (0.8)\n",
            "Requirement already satisfied: filelock==3.0.12 in /usr/local/lib/python3.7/dist-packages (from deeppavlov) (3.0.12)\n",
            "Requirement already satisfied: pymorphy2-dicts-ru in /usr/local/lib/python3.7/dist-packages (from deeppavlov) (2.4.417127.4579844)\n",
            "Requirement already satisfied: tqdm==4.62.0 in /usr/local/lib/python3.7/dist-packages (from deeppavlov) (4.62.0)\n",
            "Requirement already satisfied: aio-pika==6.4.1 in /usr/local/lib/python3.7/dist-packages (from deeppavlov) (6.4.1)\n",
            "Requirement already satisfied: nltk==3.4.5 in /usr/local/lib/python3.7/dist-packages (from deeppavlov) (3.4.5)\n",
            "Requirement already satisfied: scipy==1.4.1 in /usr/local/lib/python3.7/dist-packages (from deeppavlov) (1.4.1)\n",
            "Requirement already satisfied: sacremoses==0.0.35 in /usr/local/lib/python3.7/dist-packages (from deeppavlov) (0.0.35)\n",
            "Requirement already satisfied: aiormq<4,>=3.2.0 in /usr/local/lib/python3.7/dist-packages (from aio-pika==6.4.1->deeppavlov) (3.3.1)\n",
            "Requirement already satisfied: yarl in /usr/local/lib/python3.7/dist-packages (from aio-pika==6.4.1->deeppavlov) (1.7.2)\n",
            "Requirement already satisfied: starlette<=0.12.9,>=0.12.9 in /usr/local/lib/python3.7/dist-packages (from fastapi==0.47.1->deeppavlov) (0.12.9)\n",
            "Requirement already satisfied: six in /usr/local/lib/python3.7/dist-packages (from h5py==2.10.0->deeppavlov) (1.15.0)\n",
            "Requirement already satisfied: python-dateutil>=2.6.1 in /usr/local/lib/python3.7/dist-packages (from pandas==0.25.3->deeppavlov) (2.8.2)\n",
            "Requirement already satisfied: docopt>=0.6 in /usr/local/lib/python3.7/dist-packages (from pymorphy2==0.8->deeppavlov) (0.6.2)\n",
            "Requirement already satisfied: dawg-python>=0.7 in /usr/local/lib/python3.7/dist-packages (from pymorphy2==0.8->deeppavlov) (0.7.2)\n",
            "Requirement already satisfied: pymorphy2-dicts<3.0,>=2.4 in /usr/local/lib/python3.7/dist-packages (from pymorphy2==0.8->deeppavlov) (2.4.393442.3710985)\n",
            "Requirement already satisfied: cryptography>=2.8 in /usr/local/lib/python3.7/dist-packages (from pyopenssl==19.1.0->deeppavlov) (36.0.1)\n",
            "Requirement already satisfied: idna<2.9,>=2.5 in /usr/local/lib/python3.7/dist-packages (from requests==2.22.0->deeppavlov) (2.8)\n",
            "Requirement already satisfied: chardet<3.1.0,>=3.0.2 in /usr/local/lib/python3.7/dist-packages (from requests==2.22.0->deeppavlov) (3.0.4)\n",
            "Requirement already satisfied: urllib3!=1.25.0,!=1.25.1,<1.26,>=1.21.1 in /usr/local/lib/python3.7/dist-packages (from requests==2.22.0->deeppavlov) (1.24.3)\n",
            "Requirement already satisfied: certifi>=2017.4.17 in /usr/local/lib/python3.7/dist-packages (from requests==2.22.0->deeppavlov) (2021.10.8)\n",
            "Requirement already satisfied: joblib in /usr/local/lib/python3.7/dist-packages (from sacremoses==0.0.35->deeppavlov) (1.1.0)\n",
            "Requirement already satisfied: websockets==8.* in /usr/local/lib/python3.7/dist-packages (from uvicorn==0.11.7->deeppavlov) (8.1)\n",
            "Requirement already satisfied: h11<0.10,>=0.8 in /usr/local/lib/python3.7/dist-packages (from uvicorn==0.11.7->deeppavlov) (0.9.0)\n",
            "Requirement already satisfied: httptools==0.1.* in /usr/local/lib/python3.7/dist-packages (from uvicorn==0.11.7->deeppavlov) (0.1.2)\n",
            "Requirement already satisfied: pamqp==2.3.0 in /usr/local/lib/python3.7/dist-packages (from aiormq<4,>=3.2.0->aio-pika==6.4.1->deeppavlov) (2.3.0)\n",
            "Requirement already satisfied: cffi>=1.12 in /usr/local/lib/python3.7/dist-packages (from cryptography>=2.8->pyopenssl==19.1.0->deeppavlov) (1.15.0)\n",
            "Requirement already satisfied: pycparser in /usr/local/lib/python3.7/dist-packages (from cffi>=1.12->cryptography>=2.8->pyopenssl==19.1.0->deeppavlov) (2.21)\n",
            "Requirement already satisfied: multidict>=4.0 in /usr/local/lib/python3.7/dist-packages (from yarl->aio-pika==6.4.1->deeppavlov) (6.0.2)\n",
            "Requirement already satisfied: typing-extensions>=3.7.4 in /usr/local/lib/python3.7/dist-packages (from yarl->aio-pika==6.4.1->deeppavlov) (3.10.0.2)\n"
          ]
        }
      ]
    },
    {
      "cell_type": "code",
      "source": [
        "!cp  drive/MyDrive/НИР/dataset_bert.py .\n",
        "!cp  drive/MyDrive/НИР/functions_for_bert.py .\n",
        "\n",
        "from dataset_bert import CustomDataset\n",
        "from functions_for_bert import Classifier"
      ],
      "metadata": {
        "id": "1r5Q2C5n8iyx"
      },
      "execution_count": null,
      "outputs": []
    },
    {
      "cell_type": "code",
      "metadata": {
        "id": "vc36aXN9s9UL",
        "colab": {
          "base_uri": "https://localhost:8080/"
        },
        "outputId": "bb5a3ebb-4a8b-405e-c720-393d3cfffb9d"
      },
      "source": [
        "from transformers import BertTokenizer\n",
        "device = 'cuda'\n",
        "tokenizer_path = 'cointegrated/rubert-tiny'\n",
        "tokenizer = BertTokenizer.from_pretrained(tokenizer_path)"
      ],
      "execution_count": null,
      "outputs": [
        {
          "output_type": "stream",
          "name": "stderr",
          "text": [
            "/usr/local/lib/python3.7/dist-packages/cryptography/hazmat/backends/openssl/x509.py:17: CryptographyDeprecationWarning: This version of cryptography contains a temporary pyOpenSSL fallback path. Upgrade pyOpenSSL now.\n",
            "  utils.DeprecatedIn35,\n"
          ]
        }
      ]
    },
    {
      "cell_type": "code",
      "metadata": {
        "colab": {
          "base_uri": "https://localhost:8080/"
        },
        "id": "goExirZho9fI",
        "outputId": "88590ccb-5c24-45eb-f279-c57d32585333"
      },
      "source": [
        "from transformers import BertForSequenceClassification\n",
        "model_path = 'cointegrated/rubert-tiny'\n",
        "model = BertForSequenceClassification.from_pretrained(model_path)"
      ],
      "execution_count": null,
      "outputs": [
        {
          "output_type": "stream",
          "name": "stderr",
          "text": [
            "/usr/local/lib/python3.7/dist-packages/cryptography/hazmat/backends/openssl/x509.py:17: CryptographyDeprecationWarning: This version of cryptography contains a temporary pyOpenSSL fallback path. Upgrade pyOpenSSL now.\n",
            "  utils.DeprecatedIn35,\n",
            "Some weights of the model checkpoint at cointegrated/rubert-tiny were not used when initializing BertForSequenceClassification: ['cls.seq_relationship.bias', 'cls.seq_relationship.weight', 'cls.predictions.transform.LayerNorm.bias', 'cls.predictions.bias', 'cls.predictions.transform.LayerNorm.weight', 'cls.predictions.transform.dense.weight', 'cls.predictions.decoder.weight', 'cls.predictions.transform.dense.bias', 'cls.predictions.decoder.bias']\n",
            "- This IS expected if you are initializing BertForSequenceClassification from the checkpoint of a model trained on another task or with another architecture (e.g. initializing a BertForSequenceClassification model from a BertForPreTraining model).\n",
            "- This IS NOT expected if you are initializing BertForSequenceClassification from the checkpoint of a model that you expect to be exactly identical (initializing a BertForSequenceClassification model from a BertForSequenceClassification model).\n",
            "Some weights of BertForSequenceClassification were not initialized from the model checkpoint at cointegrated/rubert-tiny and are newly initialized: ['classifier.bias', 'classifier.weight']\n",
            "You should probably TRAIN this model on a down-stream task to be able to use it for predictions and inference.\n"
          ]
        }
      ]
    },
    {
      "cell_type": "code",
      "metadata": {
        "id": "jpE-jC6cpeJs"
      },
      "source": [
        "out_features = model.bert.encoder.layer[1].output.dense.out_features"
      ],
      "execution_count": null,
      "outputs": []
    },
    {
      "cell_type": "code",
      "metadata": {
        "id": "K0wcl6jPpkkB"
      },
      "source": [
        "classifier_RB = Classifier(\n",
        "    model,\n",
        "    tokenizer,\n",
        "    out_features,\n",
        "    6\n",
        ")"
      ],
      "execution_count": null,
      "outputs": []
    },
    {
      "cell_type": "code",
      "metadata": {
        "id": "_g2o75Z6prbF",
        "colab": {
          "base_uri": "https://localhost:8080/"
        },
        "outputId": "6622f018-1b1c-4f21-bb09-67b510bc2a2d"
      },
      "source": [
        "from deeppavlov.dataset_readers.basic_classification_reader import BasicClassificationDatasetReader\n",
        "from deeppavlov.dataset_iterators.basic_classification_iterator import BasicClassificationDatasetIterator\n",
        "\n",
        "# read data from particular columns of `.csv` file\n",
        "dr = BasicClassificationDatasetReader().read(\n",
        "    data_path='/content/drive/MyDrive/НИР',\n",
        "    train='Join_dataset.csv',\n",
        "    x = 'text',\n",
        "    y = 'news'\n",
        ")\n",
        "\n",
        "# initialize data iterator splitting `train` field to `train` and `valid` in proportion 0.8/0.2\n",
        "train_iterator = BasicClassificationDatasetIterator(\n",
        "    data=dr,\n",
        "    field_to_split='train',  # field that will be splitted\n",
        "    split_fields=['train', 'valid', 'test'],   # fields to which the fiald above will be splitted\n",
        "    split_proportions=[0.7, 0.2, 0.1],  #proportions for splitting\n",
        "    split_seed=23,  # seed for splitting dataset\n",
        "    seed=42)  # seed for iteration over dataset"
      ],
      "execution_count": null,
      "outputs": [
        {
          "output_type": "stream",
          "name": "stderr",
          "text": [
            "2022-02-03 10:09:53.169 WARNING in 'deeppavlov.dataset_readers.basic_classification_reader'['basic_classification_reader'] at line 112: Cannot find /content/drive/MyDrive/НИР/valid.csv file\n",
            "2022-02-03 10:09:53.172 WARNING in 'deeppavlov.dataset_readers.basic_classification_reader'['basic_classification_reader'] at line 112: Cannot find /content/drive/MyDrive/НИР/test.csv file\n",
            "2022-02-03 10:09:53.176 INFO in 'deeppavlov.dataset_iterators.basic_classification_iterator'['basic_classification_iterator'] at line 74: Splitting field <<train>> to new fields <<['train', 'valid', 'test']>>\n"
          ]
        }
      ]
    },
    {
      "cell_type": "code",
      "metadata": {
        "id": "_n2YvenlqKTJ",
        "colab": {
          "base_uri": "https://localhost:8080/"
        },
        "outputId": "4b2b5e71-2e63-4bc2-e80f-60692546bf7d"
      },
      "source": [
        "x_train, y_train = train_iterator.get_instances(data_type='train')\n",
        "\n",
        "x_valid, y_valid = train_iterator.get_instances(data_type='valid')\n",
        "\n",
        "x_test, y_test = train_iterator.get_instances(data_type='test')\n",
        "\n",
        "print('train: ')\n",
        "for x, y in list(zip(x_train, y_train))[:3]:\n",
        "   print('x:', x)\n",
        "   print('y:', y)\n",
        "   print('=================')\n",
        "\n",
        "print('validation: ')\n",
        "for x, y in list(zip(x_valid, y_valid))[:3]:\n",
        "   print('x:', x)\n",
        "   print('y:', y)\n",
        "   print('=================')\n",
        "\n"
      ],
      "execution_count": null,
      "outputs": [
        {
          "output_type": "stream",
          "name": "stdout",
          "text": [
            "train: \n",
            "x: «Адепт национализма»: Захарова о главе Минздрава Украины \n",
            "y: 1\n",
            "=================\n",
            "x: Тюльпанов обует водителей по закону\n",
            "y: 1\n",
            "=================\n",
            "x: «Троллили мою семью»: скандалисты зарубили бабушку и внуков\n",
            "y: 1\n",
            "=================\n",
            "validation: \n",
            "x: Так, чисто поржать, ибо пьян.. 1. Ничего личного .. то есть - выложить скрин моего аккаунта с пометкой латентный гомосексуалист - это - ничего личного? 2. Просто пруфы предоставляйте .. не буду, потому что лень. На правоту не претендую. Кому не нравится, может привести антипруф, или поставить минус и идти дальше. 3. Извинюсь. Даже не вопрос. Если был неправ .. (тут я немного грамматические ошибки поправил, но не суть.. сам пренебрегаю заглавными буквами, ибо пишу с телефона ..) а. Ценю попытку извиниться, не каждый на это способен.. но: б. Если был неправ .. то есть пикабушник, зная меня только по моим постам, сделал вполне конкретный вывод, что я латентный гомосексуалист , о чём не преминул известить всё сообщество.. и понял, что не прав, только после того, как получил но носу (согласно правилам пикабу), соизволил извиниться?.. Тут я устал.. P.S. Вижу у моего оппонента высокий рейтинг и кучу постов.. попозже ознакомлюсь с ними и дам некоторый анализ этого персонажа.. (или не дам, ибо это по настроению и вдохновению.., ничего личного..)))\n",
            "y: 0\n",
            "=================\n",
            "x: Надо просто сделать гос. страховку по экзамену, сдал, молодец, умный, если нет хуй тебе, а не страховка и не какой мед. помощи ну или минимум\n",
            "\n",
            "y: 0\n",
            "=================\n",
            "x: У пушного ряха стала шире плеч\n",
            "\n",
            "y: 0\n",
            "=================\n"
          ]
        }
      ]
    },
    {
      "cell_type": "code",
      "metadata": {
        "id": "f4CzEDAgqQWm",
        "colab": {
          "base_uri": "https://localhost:8080/"
        },
        "outputId": "dfde35f0-3335-4145-8bbd-4c008dc7e4e9"
      },
      "source": [
        "classifier_RB.preparation(x_train, y_train, x_valid, y_valid)"
      ],
      "execution_count": null,
      "outputs": [
        {
          "output_type": "stream",
          "name": "stderr",
          "text": [
            "/usr/local/lib/python3.7/dist-packages/transformers/optimization.py:309: FutureWarning: This implementation of AdamW is deprecated and will be removed in a future version. Use thePyTorch implementation torch.optim.AdamW instead, or set `no_deprecation_warning=True` to disable this warning\n",
            "  FutureWarning,\n"
          ]
        }
      ]
    },
    {
      "cell_type": "code",
      "source": [
        "all_valid_loss = []\n",
        "all_train_loss = []\n",
        "all_valid_acc = []\n",
        "all_train_acc = []\n",
        "\n",
        "all_valid_loss, all_valid_acc, all_train_loss, all_train_acc = classifier_RB.train('RuBert-tiny.pth')"
      ],
      "metadata": {
        "id": "3vkjq6lRAFnb",
        "colab": {
          "base_uri": "https://localhost:8080/",
          "height": 739
        },
        "outputId": "6cee283d-3e24-46bf-d606-57caab406d7f"
      },
      "execution_count": null,
      "outputs": [
        {
          "output_type": "stream",
          "name": "stdout",
          "text": [
            "Epoch 1/6\n",
            "Train loss 0.13043805648878126 accuracy 0.9717142857142858\n",
            "Val loss 0.1439917480199729 accuracy 0.977\n",
            "----------\n",
            "Epoch 2/6\n",
            "Train loss 0.07019090991924376 accuracy 0.9858571428571429\n",
            "Val loss 0.0912519502074756 accuracy 0.983\n",
            "----------\n",
            "Epoch 3/6\n",
            "Train loss 0.03817159573145857 accuracy 0.9924285714285715\n",
            "Val loss 0.11089896882217727 accuracy 0.984\n",
            "----------\n",
            "Epoch 4/6\n",
            "Train loss 0.023152695645216357 accuracy 0.9955714285714287\n",
            "Val loss 0.12203656184298871 accuracy 0.9825\n",
            "----------\n",
            "Epoch 5/6\n",
            "Train loss 0.0133350104753099 accuracy 0.9975714285714287\n",
            "Val loss 0.13032806202474695 accuracy 0.984\n",
            "----------\n",
            "Epoch 6/6\n",
            "Train loss 0.007689365708436136 accuracy 0.9985714285714287\n",
            "Val loss 0.13571681420481901 accuracy 0.984\n",
            "----------\n"
          ]
        },
        {
          "output_type": "error",
          "ename": "AttributeError",
          "evalue": "ignored",
          "traceback": [
            "\u001b[0;31m---------------------------------------------------------------------------\u001b[0m",
            "\u001b[0;31mAttributeError\u001b[0m                            Traceback (most recent call last)",
            "\u001b[0;32m<ipython-input-28-7aa833b3e3c2>\u001b[0m in \u001b[0;36m<module>\u001b[0;34m()\u001b[0m\n\u001b[1;32m      4\u001b[0m \u001b[0mall_train_acc\u001b[0m \u001b[0;34m=\u001b[0m \u001b[0;34m[\u001b[0m\u001b[0;34m]\u001b[0m\u001b[0;34m\u001b[0m\u001b[0;34m\u001b[0m\u001b[0m\n\u001b[1;32m      5\u001b[0m \u001b[0;34m\u001b[0m\u001b[0m\n\u001b[0;32m----> 6\u001b[0;31m \u001b[0mall_valid_loss\u001b[0m\u001b[0;34m,\u001b[0m \u001b[0mall_valid_acc\u001b[0m\u001b[0;34m,\u001b[0m \u001b[0mall_train_loss\u001b[0m\u001b[0;34m,\u001b[0m \u001b[0mall_train_acc\u001b[0m \u001b[0;34m=\u001b[0m \u001b[0mclassifier_RB\u001b[0m\u001b[0;34m.\u001b[0m\u001b[0mtrain\u001b[0m\u001b[0;34m(\u001b[0m\u001b[0;34m'RuBert-tiny.pth'\u001b[0m\u001b[0;34m)\u001b[0m\u001b[0;34m\u001b[0m\u001b[0;34m\u001b[0m\u001b[0m\n\u001b[0m",
            "\u001b[0;32m/content/functions_for_bert.py\u001b[0m in \u001b[0;36mtrain\u001b[0;34m(self, name)\u001b[0m\n\u001b[1;32m    125\u001b[0m          \u001b[0mall_valid_acc\u001b[0m\u001b[0;34m.\u001b[0m\u001b[0mappend\u001b[0m\u001b[0;34m(\u001b[0m\u001b[0mval_acc\u001b[0m\u001b[0;34m)\u001b[0m\u001b[0;34m\u001b[0m\u001b[0;34m\u001b[0m\u001b[0m\n\u001b[1;32m    126\u001b[0m       \u001b[0;32mif\u001b[0m \u001b[0mval_acc\u001b[0m \u001b[0;34m>\u001b[0m \u001b[0mbest_accuracy\u001b[0m\u001b[0;34m:\u001b[0m\u001b[0;34m\u001b[0m\u001b[0;34m\u001b[0m\u001b[0m\n\u001b[0;32m--> 127\u001b[0;31m                 \u001b[0mtorch\u001b[0m\u001b[0;34m.\u001b[0m\u001b[0msave\u001b[0m\u001b[0;34m(\u001b[0m\u001b[0mself\u001b[0m\u001b[0;34m.\u001b[0m\u001b[0mmodel\u001b[0m\u001b[0;34m,\u001b[0m \u001b[0mmodel_save_path\u001b[0m\u001b[0;34m)\u001b[0m\u001b[0;34m\u001b[0m\u001b[0;34m\u001b[0m\u001b[0m\n\u001b[0m\u001b[1;32m    128\u001b[0m                 \u001b[0mbest_accuracy\u001b[0m \u001b[0;34m=\u001b[0m \u001b[0mval_acc\u001b[0m\u001b[0;34m\u001b[0m\u001b[0;34m\u001b[0m\u001b[0m\n\u001b[1;32m    129\u001b[0m \u001b[0;34m\u001b[0m\u001b[0m\n",
            "\u001b[0;31mAttributeError\u001b[0m: 'Classifier' object has no attribute 'model_save_path'"
          ]
        }
      ]
    },
    {
      "cell_type": "code",
      "source": [
        " model_save_path = '/content/drive/MyDrive/НИР/models/'+'RuBert-tiny.pth'\n",
        " model_save_path"
      ],
      "metadata": {
        "colab": {
          "base_uri": "https://localhost:8080/",
          "height": 35
        },
        "id": "ov9AjKNGGO54",
        "outputId": "f1d23648-64e9-460b-c9fd-4a9ae710f7db"
      },
      "execution_count": null,
      "outputs": [
        {
          "output_type": "execute_result",
          "data": {
            "application/vnd.google.colaboratory.intrinsic+json": {
              "type": "string"
            },
            "text/plain": [
              "'/content/drive/MyDrive/НИР/models/RuBert-tiny.pth'"
            ]
          },
          "metadata": {},
          "execution_count": 30
        }
      ]
    },
    {
      "cell_type": "code",
      "source": [
        "predictions = [str(classifier_RB.predict(t)) for t in x_test]"
      ],
      "metadata": {
        "id": "1_3Xrb_lG7os"
      },
      "execution_count": null,
      "outputs": []
    },
    {
      "cell_type": "code",
      "source": [
        "precision, recall, f1score = precision_recall_fscore_support(y_test, predictions)[:3]\n",
        "\n",
        "print(f'precision: {precision}, recall: {recall}, f1score: {f1score}')"
      ],
      "metadata": {
        "id": "xGENVYeVGE5k"
      },
      "execution_count": null,
      "outputs": []
    },
    {
      "cell_type": "code",
      "source": [
        "import matplotlib.pyplot as plt \n",
        "\n",
        "fig, axs = plt.subplots(2, 2)\n",
        "axs[0][0].plot([1,2,3,4], all_train_loss)\n",
        "axs[0][1].plot([1,2,3,4], all_valid_loss)\n",
        "axs[1][0].plot([1,2,3,4], all_train_acc)\n",
        "axs[1][1].plot([1,2,3,4], all_valid_acc)"
      ],
      "metadata": {
        "id": "wHdoFJorUbz4"
      },
      "execution_count": null,
      "outputs": []
    }
  ]
}